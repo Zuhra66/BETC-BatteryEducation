{
  "nbformat": 4,
  "nbformat_minor": 0,
  "metadata": {
    "colab": {
      "provenance": [],
      "authorship_tag": "ABX9TyPTH1sMw0NfbhDHMyr2jpsK",
      "include_colab_link": true
    },
    "kernelspec": {
      "name": "python3",
      "display_name": "Python 3"
    },
    "language_info": {
      "name": "python"
    }
  },
  "cells": [
    {
      "cell_type": "markdown",
      "metadata": {
        "id": "view-in-github",
        "colab_type": "text"
      },
      "source": [
        "<a href=\"https://colab.research.google.com/github/Zuhra66/BETC-BatteryEducation/blob/main/BETC.ipynb\" target=\"_parent\"><img src=\"https://colab.research.google.com/assets/colab-badge.svg\" alt=\"Open In Colab\"/></a>"
      ]
    },
    {
      "cell_type": "code",
      "execution_count": null,
      "metadata": {
        "id": "KObQd_Lc-tKp"
      },
      "outputs": [],
      "source": []
    },
    {
      "cell_type": "markdown",
      "source": [
        "## **Battery Education and Training Programs Across U.S. Institutions**\n",
        "\n",
        "**Interns:**\n",
        "\n",
        "Zuhra Totakhail\n",
        "\n",
        "Edward Torres\n",
        "\n",
        "Nima Mahanloo\n",
        "\n",
        "Advisor/ Mentor: Arijit Das\n",
        "\n",
        "Start date:8/21/2025\n",
        "\n",
        "End date: 9/30/2025"
      ],
      "metadata": {
        "id": "jcjm2CrkDeuy"
      }
    },
    {
      "cell_type": "markdown",
      "source": [
        "# **Introduction:**\n",
        "\n",
        "This dataset provides a comprehensive overview of battery-focused and related educational programs offered by institutions across the United States. With 438 entries and 35 attributes, it captures essential details about universities, colleges, technical schools, and training providers that deliver programs in areas such as battery technology, energy systems, and advanced manufacturing. The data includes institutional characteristics (e.g., accreditation, public/private status, degree level), program details (e.g., name, length, delivery mode, prerequisites, costs, and funding avenues), and industry relevance (e.g., battery-specific offerings, STEM alignment, and prospective job opportunities).\n",
        "\n",
        "By highlighting both academic and professional training opportunities, this dataset serves as a valuable resource for researchers, policymakers, educators, and workforce development planners seeking to understand the educational landscape driving the clean energy and electric vehicle revolution."
      ],
      "metadata": {
        "id": "GFkXYJD5EKf7"
      }
    },
    {
      "cell_type": "code",
      "source": [
        "import pandas as pd\n",
        "import numpy as np\n",
        "import matplotlib.pyplot as plt"
      ],
      "metadata": {
        "id": "ya5xiyOREg--"
      },
      "execution_count": 1,
      "outputs": []
    },
    {
      "cell_type": "code",
      "source": [
        "\n",
        "# GitHub repository: https://github.com/Zuhra66/BETC-BatteryEducation'\n",
        "\n",
        "# URL of CSV hosted on GitHub\n",
        "url = \"https://raw.githubusercontent.com/Zuhra66/BETC-BatteryEducation/refs/heads/main/betc_csv.csv\"\n",
        "\n",
        "# Load CSV into a pandas DataFrame\n",
        "df = pd.read_csv(url)\n",
        "\n",
        "# Make sure all columns display in one row\n",
        "pd.set_option('display.max_columns', None)\n",
        "pd.set_option('display.width', 1000)\n",
        "\n",
        "# Show the first 5 rows\n",
        "print(df.head())\n",
        "\n",
        "\n"
      ],
      "metadata": {
        "colab": {
          "base_uri": "https://localhost:8080/"
        },
        "id": "6Hp48GsqFXx_",
        "outputId": "1287f4fc-eb0d-4f17-b658-7edc52083264"
      },
      "execution_count": 4,
      "outputs": [
        {
          "output_type": "stream",
          "name": "stdout",
          "text": [
            "                        INSTITUTION             WEBADDR       CITY     STATE ACCREDITED (Y/N) ACCREDITATION PUBLIC PRIVATE 4-YEAR 2 YEAR (Assoc.) GRAD TECHNICAL APPRENTICE K-12  # TOTAL PROG # STEM PROG ACADEMIC  ONLINE/IN PERSON          START DATE PROG LENGTH  # BATT SPECIFIC PROGRAMS  # BATT RELATED BATT SPECIFIC      SPECIFIC PROGRAM TYPE COURSE #                                          PROG NAME                                     PROG POC                       PROG E-MAIL    PROG PHONE                                           PROG WEB                      PROG PREREQ:                                          PROG COST                          AVENUES FOR FUNDING                                       PROG ADDRESS                  PROSPECTIVE JOBS (Rough Estimate)\n",
            "0  University of Michigan-Ann Arbor  https://umich.edu/  Ann Arbor  Michigan              Yes           HLC    Yes      No    Yes             No   Yes       Yes         No   No           310         124      Yes         In Person  Fall/Spring/Summer      4 days                         4               5           Yes                     Course  Unknown                               Battery Short Course           University of Michigan Battery Lab              batterylab@umich.edu  734-764-2794  https://umbatterylab.engin.umich.edu/battery-s...  Contact POC for more information                   Contact POC for more information  Employer Sponsored Professional Development  Michigan Memorial Phoenix Project Building, 23...  Battery design engineer, cell manufacturing sp...\n",
            "1  University of Michigan-Ann Arbor  https://umich.edu/  Ann Arbor  Michigan              Yes           HLC    Yes      No    Yes             No   Yes       Yes         No   No           310         124       No            Online  Fall/Spring/Summer       1 day                         4               5           Yes  Continuing Education Unit  Program                      Battery Management and Safety  Michigan Engineering Professional Education  professional.education@umich.edu  734-647-7200  https://ope.engin.umich.edu/battery-management...  Contact POC for more information                                              $250   Employer Sponsored Professional Development                500 S State St, Ann Arbor, MI 48109  Battery management systems engineer, energy sy...\n",
            "2  University of Michigan-Ann Arbor  https://umich.edu/  Ann Arbor  Michigan              Yes           HLC    Yes      No    Yes             No   Yes       Yes         No   No           310         124       No            Online  Fall/Spring/Summer     90 days                         4               5           Yes                Certificate  Program  Battery Cell Manufacturing, Testing, and Desig...    Dr. Andrew Weng  Electric Vehicle Center              batterylab@umich.edu  734-647-7200  https://nexus.engin.umich.edu/pro-ed/battery-c...  Contact POC for more information                                            $1,200   Employer Sponsored Professional Development                500 S State St, Ann Arbor, MI 48109  Cell manufacturing technician, battery test en...\n",
            "3  University of Michigan-Ann Arbor  https://umich.edu/  Ann Arbor  Michigan              Yes           HLC    Yes      No    Yes             No   Yes       Yes         No   No           310         124      Yes  In Person/Online                Fall     2 years                         4               5            No                    Masters  Program                         Energy Systems Engineering                              Colette Sherfey                scherfey@umich.edu       Unknown  https://che.engin.umich.edu/graduate/energy-sy...                 Bachelors in STEM  https://ro.umich.edu/tuition-residency/tuition...   Financial Aid: Scholarships, Grants, Loans  2800 Plymouth Rd Building 18, Ann Arbor, MI 48109  Energy systems engineer, battery controls engi...\n",
            "4  University of Michigan-Ann Arbor  https://umich.edu/  Ann Arbor  Michigan              Yes           HLC    Yes      No    Yes             No   Yes       Yes         No   No           310         124       No            Online  Fall/Spring/Summer       1 day                         4               5            No  Continuing Education Unit  Program                          Electrical Energy Storage                                Donald Siegel                 djsiege@umich.edu       Unknown  https://ope.engin.umich.edu/electrical-energy-...  Contact POC for more information                                              $250   Employer Sponsored Professional Development   2401 Plymouth Rd, Suite A/B, Ann Arbor, MI 48105  Energy Systems Analyst; Battery Test Engineer;...\n"
          ]
        }
      ]
    }
  ]
}