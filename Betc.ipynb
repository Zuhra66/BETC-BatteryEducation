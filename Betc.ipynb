{
  "nbformat": 4,
  "nbformat_minor": 0,
  "metadata": {
    "colab": {
      "provenance": [],
      "authorship_tag": "ABX9TyMhyrZTz9Y/2wvnlvVLMBjj",
      "include_colab_link": true
    },
    "kernelspec": {
      "name": "python3",
      "display_name": "Python 3"
    },
    "language_info": {
      "name": "python"
    }
  },
  "cells": [
    {
      "cell_type": "markdown",
      "metadata": {
        "id": "view-in-github",
        "colab_type": "text"
      },
      "source": [
        "<a href=\"https://colab.research.google.com/github/Zuhra66/BETC-BatteryEducation/blob/dev-ZT/Betc.ipynb\" target=\"_parent\"><img src=\"https://colab.research.google.com/assets/colab-badge.svg\" alt=\"Open In Colab\"/></a>"
      ]
    },
    {
      "cell_type": "code",
      "execution_count": 27,
      "metadata": {
        "id": "KObQd_Lc-tKp"
      },
      "outputs": [],
      "source": []
    },
    {
      "cell_type": "markdown",
      "source": [
        "## **Battery Education and Training Programs Across U.S. Institutions**\n",
        "\n",
        "**Interns:**\n",
        "\n",
        "Zuhra Totakhail\n",
        "\n",
        "Edward Torres\n",
        "\n",
        "Nima Mahanloo\n",
        "\n",
        "Advisor/ Mentor: Arijit Das\n",
        "\n",
        "Start date:8/21/2025\n",
        "\n",
        "End date: 9/30/2025"
      ],
      "metadata": {
        "id": "jcjm2CrkDeuy"
      }
    },
    {
      "cell_type": "markdown",
      "source": [
        "# **Introduction:**\n",
        "\n",
        "This dataset provides a comprehensive overview of battery-focused and related educational programs offered by institutions across the United States. With 438 entries and 35 attributes, it captures essential details about universities, colleges, technical schools, and training providers that deliver programs in areas such as battery technology, energy systems, and advanced manufacturing. The data includes institutional characteristics (e.g., accreditation, public/private status, degree level), program details (e.g., name, length, delivery mode, prerequisites, costs, and funding avenues), and industry relevance (e.g., battery-specific offerings, STEM alignment, and prospective job opportunities).\n",
        "\n",
        "By highlighting both academic and professional training opportunities, this dataset serves as a valuable resource for researchers, policymakers, educators, and workforce development planners seeking to understand the educational landscape driving the clean energy and electric vehicle revolution."
      ],
      "metadata": {
        "id": "GFkXYJD5EKf7"
      }
    },
    {
      "cell_type": "code",
      "source": [],
      "metadata": {
        "id": "ao5PPuQRKOib"
      },
      "execution_count": 27,
      "outputs": []
    },
    {
      "cell_type": "code",
      "source": [
        "import pandas as pd\n",
        "import numpy as np\n",
        "import re\n",
        "from pathlib import Path\n",
        "import matplotlib.pyplot as plt"
      ],
      "metadata": {
        "id": "ya5xiyOREg--"
      },
      "execution_count": 28,
      "outputs": []
    },
    {
      "cell_type": "code",
      "source": [
        "\n",
        "# GitHub repository: https://github.com/Zuhra66/BETC-BatteryEducation'\n",
        "\n",
        "# URL of CSV hosted on GitHub\n",
        "url = \"https://raw.githubusercontent.com/Zuhra66/BETC-BatteryEducation/refs/heads/main/betc_csv.csv\"\n",
        "\n",
        "# Load CSV into a pandas DataFrame\n",
        "df = pd.read_csv(url)\n",
        "\n",
        "# Make sure all columns display in one row\n",
        "pd.set_option('display.max_columns', None)\n",
        "pd.set_option('display.width', 1000)\n",
        "\n",
        "# Show the first 5 rows\n",
        "print(df.head())\n",
        "\n",
        "\n"
      ],
      "metadata": {
        "colab": {
          "base_uri": "https://localhost:8080/"
        },
        "id": "6Hp48GsqFXx_",
        "outputId": "3f3e75fe-9776-490b-bdff-26e769437351"
      },
      "execution_count": 29,
      "outputs": [
        {
          "output_type": "stream",
          "name": "stdout",
          "text": [
            "                        INSTITUTION             WEBADDR       CITY     STATE ACCREDITED (Y/N) ACCREDITATION PUBLIC PRIVATE 4-YEAR 2 YEAR (Assoc.) GRAD TECHNICAL APPRENTICE K-12  # TOTAL PROG # STEM PROG ACADEMIC  ONLINE/IN PERSON          START DATE PROG LENGTH  # BATT SPECIFIC PROGRAMS  # BATT RELATED BATT SPECIFIC      SPECIFIC PROGRAM TYPE COURSE #                                          PROG NAME                                     PROG POC                       PROG E-MAIL    PROG PHONE                                           PROG WEB                      PROG PREREQ:                                          PROG COST                          AVENUES FOR FUNDING                                       PROG ADDRESS                  PROSPECTIVE JOBS (Rough Estimate)\n",
            "0  University of Michigan-Ann Arbor  https://umich.edu/  Ann Arbor  Michigan              Yes           HLC    Yes      No    Yes             No   Yes       Yes         No   No           310         124      Yes         In Person  Fall/Spring/Summer      4 days                         4               5           Yes                     Course  Unknown                               Battery Short Course           University of Michigan Battery Lab              batterylab@umich.edu  734-764-2794  https://umbatterylab.engin.umich.edu/battery-s...  Contact POC for more information                   Contact POC for more information  Employer Sponsored Professional Development  Michigan Memorial Phoenix Project Building, 23...  Battery design engineer, cell manufacturing sp...\n",
            "1  University of Michigan-Ann Arbor  https://umich.edu/  Ann Arbor  Michigan              Yes           HLC    Yes      No    Yes             No   Yes       Yes         No   No           310         124       No            Online  Fall/Spring/Summer       1 day                         4               5           Yes  Continuing Education Unit  Program                      Battery Management and Safety  Michigan Engineering Professional Education  professional.education@umich.edu  734-647-7200  https://ope.engin.umich.edu/battery-management...  Contact POC for more information                                              $250   Employer Sponsored Professional Development                500 S State St, Ann Arbor, MI 48109  Battery management systems engineer, energy sy...\n",
            "2  University of Michigan-Ann Arbor  https://umich.edu/  Ann Arbor  Michigan              Yes           HLC    Yes      No    Yes             No   Yes       Yes         No   No           310         124       No            Online  Fall/Spring/Summer     90 days                         4               5           Yes                Certificate  Program  Battery Cell Manufacturing, Testing, and Desig...    Dr. Andrew Weng  Electric Vehicle Center              batterylab@umich.edu  734-647-7200  https://nexus.engin.umich.edu/pro-ed/battery-c...  Contact POC for more information                                            $1,200   Employer Sponsored Professional Development                500 S State St, Ann Arbor, MI 48109  Cell manufacturing technician, battery test en...\n",
            "3  University of Michigan-Ann Arbor  https://umich.edu/  Ann Arbor  Michigan              Yes           HLC    Yes      No    Yes             No   Yes       Yes         No   No           310         124      Yes  In Person/Online                Fall     2 years                         4               5            No                    Masters  Program                         Energy Systems Engineering                              Colette Sherfey                scherfey@umich.edu       Unknown  https://che.engin.umich.edu/graduate/energy-sy...                 Bachelors in STEM  https://ro.umich.edu/tuition-residency/tuition...   Financial Aid: Scholarships, Grants, Loans  2800 Plymouth Rd Building 18, Ann Arbor, MI 48109  Energy systems engineer, battery controls engi...\n",
            "4  University of Michigan-Ann Arbor  https://umich.edu/  Ann Arbor  Michigan              Yes           HLC    Yes      No    Yes             No   Yes       Yes         No   No           310         124       No            Online  Fall/Spring/Summer       1 day                         4               5            No  Continuing Education Unit  Program                          Electrical Energy Storage                                Donald Siegel                 djsiege@umich.edu       Unknown  https://ope.engin.umich.edu/electrical-energy-...  Contact POC for more information                                              $250   Employer Sponsored Professional Development   2401 Plymouth Rd, Suite A/B, Ann Arbor, MI 48105  Energy Systems Analyst; Battery Test Engineer;...\n"
          ]
        }
      ]
    },
    {
      "cell_type": "code",
      "source": [
        "# =========================\n",
        "# 0) Load\n",
        "# =========================\n",
        "url = \"https://raw.githubusercontent.com/Zuhra66/BETC-BatteryEducation/main/betc_csv.csv\"\n",
        "df = pd.read_csv(url, dtype=str)  # load everything as strings first so cleaning is predictable across columns\n",
        "print(f\"[LOAD] Loaded CSV from GitHub: shape={df.shape} (rows, cols)\")  # quick sanity check of the dataset size\n",
        "\n",
        "# =========================\n",
        "# 1) Column-name normalization -> PascalCase\n",
        "# =========================\n",
        "def normalize_col_pascal(col: str) -> str:\n",
        "    \"\"\"Helper to convert original column names to safe PascalCase.\"\"\"\n",
        "    s = col.strip()  # remove leading/trailing whitespace\n",
        "    s = s.replace(\"&\", \"And\").replace(\"#\", \"Num\").replace(\"/\", \" \").replace(\"-\", \" \")\n",
        "    s = s.replace(\"(\", \" \").replace(\")\", \" \").replace(\":\", \"\")\n",
        "    s = re.sub(r\"\\s+\", \" \", s).strip()  # collapse repeated spaces\n",
        "    s = re.sub(r\"[^0-9a-zA-Z ]\", \"\", s)  # drop any char not alnum/space\n",
        "    words = s.split()\n",
        "    return \"\".join(w.capitalize() for w in words)  # PascalCase\n",
        "\n",
        "orig_cols = df.columns.tolist()  # keep the original names to report what changed\n",
        "df.columns = [normalize_col_pascal(c) for c in df.columns]  # apply normalization to all column names\n",
        "\n",
        "renamed_pairs = [(o, n) for o, n in zip(orig_cols, df.columns) if o != n]  # compute which columns actually changed\n",
        "print(f\"[COL NAMES] Normalized to PascalCase. Renamed {len(renamed_pairs)} columns.\")  # report how many columns changed\n",
        "if renamed_pairs:  # avoid printing an empty example list\n",
        "    print(\" Examples:\", renamed_pairs[:5])  # show a few examples of old->new names\n",
        "\n"
      ],
      "metadata": {
        "colab": {
          "base_uri": "https://localhost:8080/"
        },
        "id": "cDK9ngCjaK-D",
        "outputId": "a587f1d9-b6af-43cf-c913-956d375673ca"
      },
      "execution_count": 30,
      "outputs": [
        {
          "output_type": "stream",
          "name": "stdout",
          "text": [
            "[LOAD] Loaded CSV from GitHub: shape=(438, 35) (rows, cols)\n",
            "[COL NAMES] Normalized to PascalCase. Renamed 35 columns.\n",
            " Examples: [('INSTITUTION', 'Institution'), ('WEBADDR', 'Webaddr'), ('CITY', 'City'), ('STATE', 'State'), ('ACCREDITED (Y/N)', 'AccreditedYN')]\n"
          ]
        }
      ]
    },
    {
      "cell_type": "code",
      "source": [
        "# =========================\n",
        "# 2) Trim + standardize placeholders -> Unknown\n",
        "# =========================\n",
        "placeholders = {\"\", \"nan\", \"NaN\", \"N/A\", \"n/a\", \"NA\", \"Unknown\", \"unknown\", \"-\"}  # common empty/placeholder tokens\n",
        "before_placeholder_hits = 0  # counter for how many placeholders we will convert\n",
        "\n",
        "for c in df.columns:  # iterate all columns\n",
        "    s = df[c].astype(str).str.strip()  # ensure strings and trim whitespace\n",
        "    before_placeholder_hits += s.isin(placeholders).sum()  # count placeholder matches before replacement\n",
        "\n",
        "for c in df.columns:  # do the actual replacement in-place\n",
        "    df[c] = df[c].astype(str).str.strip()  # normalize whitespace again to be safe\n",
        "    df[c] = df[c].replace(\n",
        "        {p: \"Unknown\" for p in placeholders}  # map all placeholder variants to \"Unknown\"\n",
        "    )\n",
        "\n",
        "print(f\"[PLACEHOLDERS] Replaced ~{before_placeholder_hits} placeholder values with 'Unknown'.\")\n"
      ],
      "metadata": {
        "colab": {
          "base_uri": "https://localhost:8080/"
        },
        "id": "nJ8_bLFEbOo1",
        "outputId": "c461fcaa-4fde-45d7-9224-0d7812a43a31"
      },
      "execution_count": 31,
      "outputs": [
        {
          "output_type": "stream",
          "name": "stdout",
          "text": [
            "[PLACEHOLDERS] Replaced ~1079 placeholder values with 'Unknown'.\n"
          ]
        }
      ]
    },
    {
      "cell_type": "code",
      "source": [
        "# =========================\n",
        "# 3) Numeric coercion for num_* columns\n",
        "# =========================\n",
        "num_cols = [c for c in df.columns if c.startswith(\"num_\")]  # choose columns intended to be numeric by naming convention\n",
        "coerced_cells = 0  # track how many non-null numeric cells we end up with\n",
        "for c in num_cols:  # iterate numeric columns\n",
        "    before_nonnull = df[c].notna().sum()  # count non-missing cells before conversion\n",
        "    df[c] = pd.to_numeric(df[c].str.replace(\",\", \"\", regex=False), errors=\"coerce\")  # drop thousands commas and convert; invalid -> NaN\n",
        "    after_numeric = df[c].notna().sum()  # count non-missing after numeric coercion\n",
        "    coerced_cells += after_numeric  # accumulate non-null numeric cells\n",
        "print(f\"[NUMERIC] Converted {len(num_cols)} 'num_*' column(s) to numeric. Non-null numeric cells now: {coerced_cells}\")  # report summary"
      ],
      "metadata": {
        "colab": {
          "base_uri": "https://localhost:8080/"
        },
        "id": "E2i63apIbG4z",
        "outputId": "127dd276-3d21-4cac-a2bf-aec61cdeaaba"
      },
      "execution_count": 32,
      "outputs": [
        {
          "output_type": "stream",
          "name": "stdout",
          "text": [
            "[NUMERIC] Converted 0 'num_*' column(s) to numeric. Non-null numeric cells now: 0\n"
          ]
        }
      ]
    },
    {
      "cell_type": "code",
      "source": [
        "# =========================\n",
        "# 4) Boolean-like columns -> 0/1 (Int64)\n",
        "# =========================\n",
        "bool_cols = [\"accredited\",\"accredited_y_n\",\"public\",\"private\",\"four_year\",  # candidate columns that often contain yes/no values\n",
        "             \"two_year_assoc\",\"grad\",\"technical\",\"apprentice\",\"k_12\",\n",
        "             \"academic\",\"batt_specific\"]\n",
        "bmap = {\"y\":1,\"yes\":1,\"true\":1,\"1\":1,\"t\":1,\"n\":0,\"no\":0,\"false\":0,\"0\":0,\"f\":0}  # map several textual boolean variants to 1/0\n",
        "mapped_report = []  # capture per-column mapping stats\n",
        "for c in bool_cols:  # iterate possible boolean columns\n",
        "    if c in df.columns:  # only process if the column exists in this dataset\n",
        "        before_non_null = df[c].notna().sum()  # pre-mapping non-null count\n",
        "        df[c] = df[c].str.lower().map(bmap).astype(\"Int64\")  # lowercase -> map to 1/0 -> store as nullable integer\n",
        "        after_non_null = df[c].notna().sum()  # post-mapping non-null count\n",
        "        mapped_report.append((c, before_non_null, after_non_null))  # record stats for printing\n",
        "print(f\"[BOOLEANS] Mapped {len(mapped_report)} boolean-like column(s) to 0/1 Int64.\")  # summary of how many were mapped\n",
        "for c, bnn, ann in mapped_report[:8]:  # print first few columns’ stats\n",
        "    print(f\"  - {c}: mapped_non_null={ann} (from {bnn})\")  # show how many non-null values survived mapping\n",
        "if len(mapped_report) > 8:  # avoid printing too many lines\n",
        "    print(\"  ...\")  # indicate more columns were mapped"
      ],
      "metadata": {
        "colab": {
          "base_uri": "https://localhost:8080/"
        },
        "id": "hFA2vIzAa9Oj",
        "outputId": "a1713770-e763-49e1-a164-f1c11d154bf3"
      },
      "execution_count": 33,
      "outputs": [
        {
          "output_type": "stream",
          "name": "stdout",
          "text": [
            "[BOOLEANS] Mapped 0 boolean-like column(s) to 0/1 Int64.\n"
          ]
        }
      ]
    },
    {
      "cell_type": "code",
      "source": [
        "# =========================\n",
        "# 5) Delivery mode normalization\n",
        "# =========================\n",
        "if \"online_in_person\" in df.columns:  # only derive normalized mode if source column exists\n",
        "    def mode_norm(x):  # normalize to {Online, In Person, Hybrid, Unknown}\n",
        "        if not isinstance(x, str): return np.nan  # non-string -> missing\n",
        "        val = x.lower()  # lowercase for robust text checks\n",
        "        has_online = \"online\" in val  # detect online\n",
        "        has_person = \"person\" in val or \"in person\" in val or \"on-campus\" in val  # detect in-person phrasing\n",
        "        if has_online and has_person: return \"Hybrid\"  # both present -> hybrid\n",
        "        if has_online: return \"Online\"  # only online present\n",
        "        if has_person: return \"In Person\"  # only in-person present\n",
        "        return \"Unknown\"  # none of the above -> unknown\n",
        "    df[\"delivery_mode_norm\"] = df[\"online_in_person\"].apply(mode_norm)  # create normalized delivery mode column\n",
        "    counts = df[\"delivery_mode_norm\"].value_counts(dropna=False).to_dict()  # count distribution including NaN\n",
        "    print(f\"[DELIVERY MODE] Added delivery_mode_norm with distribution: {counts}\")  # report class balance\n",
        "else:\n",
        "    print(\"[DELIVERY MODE] Skipped (column 'online_in_person' not present).\")  # note absence if not available\n"
      ],
      "metadata": {
        "colab": {
          "base_uri": "https://localhost:8080/"
        },
        "id": "jsN-HYyGa2Ag",
        "outputId": "01ebfb21-36fe-4b37-efb3-3ffb777016b1"
      },
      "execution_count": 34,
      "outputs": [
        {
          "output_type": "stream",
          "name": "stdout",
          "text": [
            "[DELIVERY MODE] Skipped (column 'online_in_person' not present).\n"
          ]
        }
      ]
    },
    {
      "cell_type": "code",
      "source": [
        "# =========================\n",
        "# 6) Parse cost to numeric (keep original text)\n",
        "# =========================\n",
        "if \"prog_cost\" in df.columns:  # only parse if a cost column exists\n",
        "    def parse_cost(s: str):  # extract the first numeric value from the cost text\n",
        "        if not isinstance(s, str): return np.nan  # non-string -> missing\n",
        "        txt = s.strip().lower()  # normalize whitespace and case\n",
        "        if txt in {\"free\",\"no cost\"}: return 0.0  # treat explicit free as 0\n",
        "        nums = re.findall(r\"\\d+(?:\\.\\d+)?\", txt.replace(\",\", \"\"))  # find numeric tokens after removing commas\n",
        "        return float(nums[0]) if nums else np.nan  # use the first number if pr"
      ],
      "metadata": {
        "id": "kgP8R-GJasMc"
      },
      "execution_count": 35,
      "outputs": []
    },
    {
      "cell_type": "code",
      "source": [
        "\n",
        "\n",
        "\n",
        "\n",
        "programs_url = \"https://raw.githubusercontent.com/Zuhra66/BETC-BatteryEducation/main/betc_programs_normalized.csv\"\n",
        "jobs_url     = \"https://raw.githubusercontent.com/Zuhra66/BETC-BatteryEducation/main/betc_jobs_normalized.csv\"\n",
        "\n",
        "programs = pd.read_csv(programs_url)\n",
        "jobs     = pd.read_csv(jobs_url)\n",
        "\n",
        "# join on record_id to see one row per program + job (left join keeps all programs)\n",
        "programs_with_jobs = programs.merge(jobs, on=\"record_id\", how=\"left\")\n",
        "print(programs_with_jobs)\n",
        "\n"
      ],
      "metadata": {
        "colab": {
          "base_uri": "https://localhost:8080/"
        },
        "id": "NfnU97JyROAi",
        "outputId": "8f68316b-f54a-4414-cda7-1f0afb9ef1ba"
      },
      "execution_count": 36,
      "outputs": [
        {
          "output_type": "stream",
          "name": "stdout",
          "text": [
            "      record_id                       INSTITUTION                 WEBADDR            CITY     STATE ACCREDITED (Y/N) ACCREDITATION PUBLIC PRIVATE 4-YEAR 2 YEAR (Assoc.) GRAD TECHNICAL APPRENTICE K-12  # TOTAL PROG # STEM PROG ACADEMIC  ONLINE/IN PERSON                 START DATE PROG LENGTH  # BATT SPECIFIC PROGRAMS  # BATT RELATED BATT SPECIFIC SPECIFIC PROGRAM TYPE   COURSE #                                          PROG NAME                                  PROG POC            PROG E-MAIL    PROG PHONE                                           PROG WEB                      PROG PREREQ:                                          PROG COST                          AVENUES FOR FUNDING                                       PROG ADDRESS                      job_title\n",
            "0             1  University of Michigan-Ann Arbor      https://umich.edu/       Ann Arbor  Michigan              Yes           HLC    Yes      No    Yes             No   Yes       Yes         No   No           310         124      Yes         In Person         Fall/Spring/Summer      4 days                         4               5           Yes                Course    Unknown                               Battery Short Course        University of Michigan Battery Lab   batterylab@umich.edu  734-764-2794  https://umbatterylab.engin.umich.edu/battery-s...  Contact POC for more information                   Contact POC for more information  Employer Sponsored Professional Development  Michigan Memorial Phoenix Project Building, 23...        Battery design engineer\n",
            "1             1  University of Michigan-Ann Arbor      https://umich.edu/       Ann Arbor  Michigan              Yes           HLC    Yes      No    Yes             No   Yes       Yes         No   No           310         124      Yes         In Person         Fall/Spring/Summer      4 days                         4               5           Yes                Course    Unknown                               Battery Short Course        University of Michigan Battery Lab   batterylab@umich.edu  734-764-2794  https://umbatterylab.engin.umich.edu/battery-s...  Contact POC for more information                   Contact POC for more information  Employer Sponsored Professional Development  Michigan Memorial Phoenix Project Building, 23...  cell manufacturing specialist\n",
            "2             1  University of Michigan-Ann Arbor      https://umich.edu/       Ann Arbor  Michigan              Yes           HLC    Yes      No    Yes             No   Yes       Yes         No   No           310         124      Yes         In Person         Fall/Spring/Summer      4 days                         4               5           Yes                Course    Unknown                               Battery Short Course        University of Michigan Battery Lab   batterylab@umich.edu  734-764-2794  https://umbatterylab.engin.umich.edu/battery-s...  Contact POC for more information                   Contact POC for more information  Employer Sponsored Professional Development  Michigan Memorial Phoenix Project Building, 23...           R&D technician in EV\n",
            "3             1  University of Michigan-Ann Arbor      https://umich.edu/       Ann Arbor  Michigan              Yes           HLC    Yes      No    Yes             No   Yes       Yes         No   No           310         124      Yes         In Person         Fall/Spring/Summer      4 days                         4               5           Yes                Course    Unknown                               Battery Short Course        University of Michigan Battery Lab   batterylab@umich.edu  734-764-2794  https://umbatterylab.engin.umich.edu/battery-s...  Contact POC for more information                   Contact POC for more information  Employer Sponsored Professional Development  Michigan Memorial Phoenix Project Building, 23...                 energy storage\n",
            "4             1  University of Michigan-Ann Arbor      https://umich.edu/       Ann Arbor  Michigan              Yes           HLC    Yes      No    Yes             No   Yes       Yes         No   No           310         124      Yes         In Person         Fall/Spring/Summer      4 days                         4               5           Yes                Course    Unknown                               Battery Short Course        University of Michigan Battery Lab   batterylab@umich.edu  734-764-2794  https://umbatterylab.engin.umich.edu/battery-s...  Contact POC for more information                   Contact POC for more information  Employer Sponsored Professional Development  Michigan Memorial Phoenix Project Building, 23...               consumer devices\n",
            "...         ...                               ...                     ...             ...       ...              ...           ...    ...     ...    ...             ...  ...       ...        ...  ...           ...         ...      ...               ...                        ...         ...                       ...             ...           ...                   ...        ...                                                ...                                       ...                    ...           ...                                                ...                               ...                                                ...                                          ...                                                ...                            ...\n",
            "1003        434     San Bernardino Valley College  www.valleycollege.edu/  San Bernardino        CA              Yes         ACCJC    Yes      No     No             Yes   No       Yes         No   No           144          14      Yes         In Person                       Fall  1 semester                         3               1           Yes                Course   AUTO 010  Introduction to Hybrid and Electric Vehicle Te...                                 Alex Cruz                Unknown  909-384-8954  https://catalog.valleycollege.edu/courses/auto...                               NaN  https://www.valleycollege.edu/admissions-recor...   Financial Aid: Scholarships, Grants, Loans  701 South Mount Vernon Ave., San Bernardino, C...               Battery engineer\n",
            "1004        435     San Bernardino Valley College  www.valleycollege.edu/  San Bernardino        CA              Yes         ACCJC    Yes      No     No             Yes   No       Yes         No   No           144          14      Yes         In Person                       Fall  1 semester                         3               1           Yes                Course   AUTO 011  Electric Vehicle (EV) and Alternative Fuel Veh...                                 Alex Cruz                Unknown  909-384-8954  https://catalog.valleycollege.edu/courses/auto...               AUTO 010 & AUTO 065  https://www.valleycollege.edu/admissions-recor...   Financial Aid: Scholarships, Grants, Loans  701 South Mount Vernon Ave., San Bernardino, C...               Battery engineer\n",
            "1005        436     San Bernardino Valley College  www.valleycollege.edu/  San Bernardino        CA              Yes         ACCJC    Yes      No     No             Yes   No       Yes         No   No           144          14      Yes         In Person                       Fall  1 semester                         3               1           Yes                Course  AUTO 011L  Electric Vehicle (EV) and Alternative Fuel Veh...                                 Alex Cruz                Unknown  909-384-8954  https://catalog.valleycollege.edu/courses/auto...                          AUTO 011  https://www.valleycollege.edu/admissions-recor...   Financial Aid: Scholarships, Grants, Loans  701 South Mount Vernon Ave., San Bernardino, C...               Battery engineer\n",
            "1006        437    Lawrence Berkeley National Lab             www.lbl.gov        Berkeley        CA              Yes       Unknown     No      No     No              No  Yes        No         No   No             0           0      Yes         In Person  Fall/Winter/Spring/Summer     Ongoing                         1               0           Yes              Research    Program                              Energy Storage Center                     Energy Storage Center  energystorage@lbl.gov       Unknown       https://www.lbl.gov/research/energy-storage/  Contact POC for more information                   Contact POC for more information                                      Federal  Lawrence Berkeley National Laboratory, 1 Cyclo...               Battery engineer\n",
            "1007        438      California Energy Commission       www.energy.ca.gov      Sacramento        CA              Yes       Unknown    Yes      No     No              No   No        No         No   No             0           0      Yes  In Person/Online  Fall/Winter/Spring/Summer     Ongoing                         1               0           Yes         State Program    Program               Long Duration Energy Storage Program  Energy Research and Development Division     ERDD@energy.ca.gov       Unknown  https://www.energy.ca.gov/programs-and-topics/...  Contact POC for more information                   Contact POC for more information                                       Grants  California Energy Commission, 715 P Street, Sa...                 Policy analyst\n",
            "\n",
            "[1008 rows x 36 columns]\n"
          ]
        }
      ]
    }
  ]
}